{
  "nbformat": 4,
  "nbformat_minor": 0,
  "metadata": {
    "colab": {
      "provenance": []
    },
    "kernelspec": {
      "name": "python3",
      "display_name": "Python 3"
    },
    "language_info": {
      "name": "python"
    }
  },
  "cells": [
    {
      "cell_type": "markdown",
      "source": [
        "Aluno: Wallace Ketler Melo de Morais"
      ],
      "metadata": {
        "id": "NQHERhsItA1y"
      }
    },
    {
      "cell_type": "markdown",
      "source": [
        "<h1>Tarefas a serem feitas</h1>\n",
        "\n",
        "1-Definir o conjunto de dados<br>\n",
        "2-Definir as funções de pertinencia<br>\n",
        "3-Calcular o grau de ativação dos antecedentes (W) (Grau de ativação das funções de pertinencia)<br>\n",
        "4-Calcular a saida de cada regra (minimo) (antecedente -> consequente)<br>\n",
        "5-Agregar as saidas das regras (maximo)<br>\n",
        "6-Defuzificar - saida com valor númerico<br>\n",
        "\n",
        "Fazer as etapas 3 a 6 para cada um dos pontos"
      ],
      "metadata": {
        "id": "wf701Aqm6e4R"
      }
    },
    {
      "cell_type": "markdown",
      "source": [
        "Inicialmente, devemos instalar a biblioteca skfuzzy para que possamos fazer a defuzzificação:\n",
        "<hr>"
      ],
      "metadata": {
        "id": "55DZEUy4sFcJ"
      }
    },
    {
      "cell_type": "code",
      "source": [
        "pip install -U scikit-fuzzy"
      ],
      "metadata": {
        "colab": {
          "base_uri": "https://localhost:8080/"
        },
        "id": "P41aIA0SYGIN",
        "outputId": "d51f604c-9155-4d3f-fc65-c3c1f5b2fe78"
      },
      "execution_count": null,
      "outputs": [
        {
          "output_type": "stream",
          "name": "stdout",
          "text": [
            "Looking in indexes: https://pypi.org/simple, https://us-python.pkg.dev/colab-wheels/public/simple/\n",
            "Requirement already satisfied: scikit-fuzzy in /usr/local/lib/python3.7/dist-packages (0.4.2)\n",
            "Requirement already satisfied: scipy>=0.9.0 in /usr/local/lib/python3.7/dist-packages (from scikit-fuzzy) (1.7.3)\n",
            "Requirement already satisfied: networkx>=1.9.0 in /usr/local/lib/python3.7/dist-packages (from scikit-fuzzy) (2.6.3)\n",
            "Requirement already satisfied: numpy>=1.6.0 in /usr/local/lib/python3.7/dist-packages (from scikit-fuzzy) (1.21.6)\n"
          ]
        }
      ]
    },
    {
      "cell_type": "markdown",
      "source": [
        "<hr>\n",
        "Depois disso, foram incluídas as bibliotecas que serão usadas, sendo elas a <strong>matplotlib</strong> para que possamos plotar gráficos, a <strong>skfuzzy</strong> para a defuzzificação pelo método máximo dos máximos e, por fim, a <strong>numpy</strong> para que possamos trabalhar com espaços lineares em Python. Além disso, definimos a  função de pertinência trapezoidal, de modo que possamos utilizar os dados passados em aula.\n",
        "<hr>"
      ],
      "metadata": {
        "id": "jMUNB9acsKZ-"
      }
    },
    {
      "cell_type": "code",
      "execution_count": null,
      "metadata": {
        "id": "g4yZCV4FxsV8"
      },
      "outputs": [],
      "source": [
        "import matplotlib.pyplot as plt\n",
        "import skfuzzy as fuzz\n",
        "import numpy as np\n",
        "\n",
        "def trapezoidal(x,a,m,n,b):\n",
        "    return max(min((x-a)/(m-a),1,(b-x)/(b-n)),0)"
      ]
    },
    {
      "cell_type": "markdown",
      "source": [
        "<hr>\n",
        "Para que possamos plotar os gráficos das funções de pertinência e da defuzzificação ao final, devemos declarar dois espaços lineares de tamanho 100, de modo que o primeiro vai de -10 até 10 e o segundo vai de 0 até 10. Depois disso, definimos o antecedente que usará o primeiro espaço linear e o consequente que usará o segundo espaço linear.\n",
        "<hr>"
      ],
      "metadata": {
        "id": "QgT5gJ9i81N_"
      }
    },
    {
      "cell_type": "code",
      "source": [
        "tamanho = 100\n",
        "\n",
        "x_tam = np.linspace(-10,10,tamanho)\n",
        "y_tam = np.linspace(0,10,tamanho)\n",
        "\n",
        "#cria funções de entrada\n",
        "\n",
        "y1_entrada = []\n",
        "y2_entrada = []\n",
        "y3_entrada = []\n",
        "for i in range(tamanho):\n",
        "\n",
        "  y1_entrada.append(trapezoidal(x_tam[i],-20,-15,-6,-3))\n",
        "  y2_entrada.append(trapezoidal(x_tam[i],-6,-3,3,6))\n",
        "  y3_entrada.append(trapezoidal(x_tam[i],3,6,15,20))\n",
        "\n",
        "plt.plot(x_tam,y1_entrada)\n",
        "plt.plot(x_tam,y2_entrada)\n",
        "plt.plot(x_tam,y3_entrada)\n",
        "plt.show()\n"
      ],
      "metadata": {
        "colab": {
          "base_uri": "https://localhost:8080/",
          "height": 265
        },
        "id": "QD_TM7XCzk_W",
        "outputId": "7f4f377e-39f5-41ec-df40-2d36ee34b917"
      },
      "execution_count": null,
      "outputs": [
        {
          "output_type": "display_data",
          "data": {
            "text/plain": [
              "<Figure size 432x288 with 1 Axes>"
            ],
            "image/png": "[encoded data removed]"
          },
          "metadata": {
            "needs_background": "light"
          }
        }
      ]
    },
    {
      "cell_type": "code",
      "source": [
        "#cria funções de saída\n",
        "\n",
        "y1_saida = []\n",
        "y2_saida = []\n",
        "y3_saida = []\n",
        "for i in range(tamanho):\n",
        "  y1_saida.append(trapezoidal(y_tam[i],-2.46,-1.46,1.46,2.46))\n",
        "  y2_saida.append(trapezoidal(y_tam[i],1.46,2.46,5,7))\n",
        "  y3_saida.append(trapezoidal(y_tam[i],5,7,13,15))\n",
        "\n",
        "plt.plot(y_tam,y1_saida)\n",
        "plt.plot(y_tam,y2_saida)\n",
        "plt.plot(y_tam,y3_saida)\n",
        "plt.show()\n",
        "\n"
      ],
      "metadata": {
        "colab": {
          "base_uri": "https://localhost:8080/",
          "height": 265
        },
        "id": "yf978V0t2WtY",
        "outputId": "915038d8-11b8-4e4e-ce6c-509d02d3858c"
      },
      "execution_count": null,
      "outputs": [
        {
          "output_type": "display_data",
          "data": {
            "text/plain": [
              "<Figure size 432x288 with 1 Axes>"
            ],
            "image/png": "[encoded data removed]"
          },
          "metadata": {
            "needs_background": "light"
          }
        }
      ]
    },
    {
      "cell_type": "markdown",
      "source": [
        "<hr>\n",
        "# As regras são: <br>\n",
        "Se y_entrada é a1 -> y_saida é c3 <br>\n",
        "Se y_entrada é a2 -> y_saida é c2 <br>\n",
        "Se y_entrada é a3 -> y_saida é c1 <br>"
      ],
      "metadata": {
        "id": "CvOV-I8_8kiE"
      }
    },
    {
      "cell_type": "markdown",
      "source": [
        "<hr>\n",
        "Por fim, devemos calcular o mínimo entre o antecedente e o consequente, de modo que, para cada entrada, devemos comparar com todas saídas. Depois disso, devemos associar tais saídas com a função máximo. Finalmente, devemos defuzzificar o sistema:"
      ],
      "metadata": {
        "id": "ibffatA1uWo_"
      }
    },
    {
      "cell_type": "code",
      "source": [
        "#calcula a saída de cada regra\n",
        "\n",
        "defuzzy = []\n",
        "\n",
        "for i in range(tamanho):\n",
        "  c1 = []\n",
        "  c2 = []\n",
        "  c3 = []\n",
        "  ymax = []\n",
        "  for j in range(tamanho):\n",
        "    c1.append(min(y3_saida[j],y1_entrada[i]))\n",
        "    c2.append(min(y2_saida[j],y2_entrada[i]))\n",
        "    c3.append(min(y1_saida[j],y3_entrada[i])) \n",
        "    ymax.append(max(c1[j],c2[j],c3[j]))\n",
        "  defuzzy.append(fuzz.defuzz(np.array(x_tam), np.array(ymax), 'lom'))\n",
        "plt.plot(x_tam, defuzzy)\n",
        "plt.show()\n",
        "\n"
      ],
      "metadata": {
        "colab": {
          "base_uri": "https://localhost:8080/",
          "height": 265
        },
        "id": "yDbeJjcC2_ab",
        "outputId": "d6f29b5e-ef82-40a2-c610-84f02811ed6d"
      },
      "execution_count": null,
      "outputs": [
        {
          "output_type": "display_data",
          "data": {
            "text/plain": [
              "<Figure size 432x288 with 1 Axes>"
            ],
            "image/png": "[encoded data removed]"
          },
          "metadata": {
            "needs_background": "light"
          }
        }
      ]
    }
  ]
}